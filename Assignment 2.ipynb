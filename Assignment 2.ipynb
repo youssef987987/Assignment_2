{
 "cells": [
  {
   "cell_type": "markdown",
   "metadata": {
    "collapsed": true
   },
   "source": [
    "# Assignment 2\n",
    "Let's test your knowledge!"
   ]
  },
  {
   "cell_type": "markdown",
   "metadata": {},
   "source": [
    "_____\n",
    "**Use <code>for</code>, .split(), and <code>if</code> to create a Statement that will print out words that start with 's':**"
   ]
  },
  {
   "cell_type": "code",
   "execution_count": null,
   "metadata": {},
   "outputs": [],
   "source": [
    "st = 'Print only the words that start with s in this sentence'"
   ]
  },
  {
   "cell_type": "code",
   "execution_count": 27,
   "metadata": {},
   "outputs": [
    {
     "name": "stdout",
     "output_type": "stream",
     "text": [
      "Enter your sentence \n",
      "she is hello see\n",
      "she\n",
      "see\n"
     ]
    }
   ],
   "source": [
    "#Code here\n",
    "st = input('Enter your sentence \\n')\n",
    "x=st.split(' ')\n",
    "for i in x:\n",
    "    if i[0]=='s':\n",
    "        print(i)\n",
    "        \n",
    "\n",
    "    "
   ]
  },
  {
   "cell_type": "markdown",
   "metadata": {},
   "source": [
    "______\n",
    "**Use range() to print all the even numbers from 0 to 10.**"
   ]
  },
  {
   "cell_type": "code",
   "execution_count": 28,
   "metadata": {},
   "outputs": [
    {
     "name": "stdout",
     "output_type": "stream",
     "text": [
      "0\n",
      "2\n",
      "4\n",
      "6\n",
      "8\n",
      "10\n"
     ]
    }
   ],
   "source": [
    "for i in range(0,11):\n",
    "    if i%2==0:\n",
    "        print(i)"
   ]
  },
  {
   "cell_type": "markdown",
   "metadata": {},
   "source": [
    "___\n",
    "**Use a List Comprehension to create a list of all numbers between 1 and 50 that are divisible by 3.**"
   ]
  },
  {
   "cell_type": "code",
   "execution_count": 30,
   "metadata": {},
   "outputs": [
    {
     "name": "stdout",
     "output_type": "stream",
     "text": [
      "[0, 3, 6, 9, 12, 15, 18, 21, 24, 27, 30, 33, 36, 39, 42, 45, 48]\n"
     ]
    }
   ],
   "source": [
    "l1=[]\n",
    "for i in range(0,51):\n",
    "    if i%3==0:\n",
    "        l1.append(i)\n",
    "print(l1)"
   ]
  },
  {
   "cell_type": "markdown",
   "metadata": {},
   "source": [
    "_____\n",
    "**Go through the string below and if the length of a word is even print \"even!\"**"
   ]
  },
  {
   "cell_type": "code",
   "execution_count": null,
   "metadata": {},
   "outputs": [],
   "source": [
    "st = 'Print every word in this sentence that has an even number of letters'"
   ]
  },
  {
   "cell_type": "code",
   "execution_count": 32,
   "metadata": {},
   "outputs": [
    {
     "name": "stdout",
     "output_type": "stream",
     "text": [
      "hello world me and my friend\n",
      "me\n",
      "even!\n",
      "my\n",
      "even!\n",
      "friend\n",
      "even!\n"
     ]
    }
   ],
   "source": [
    "st=input('')\n",
    "for i in st.split():\n",
    "    if len(i)%2==0:\n",
    "        print(i)\n",
    "        print(\"even!\")"
   ]
  },
  {
   "cell_type": "markdown",
   "metadata": {},
   "source": [
    "____\n",
    "**Write a program that prints the integers from 1 to 100. But for multiples of three print \"Fizz\" instead of the number, and for the multiples of five print \"Buzz\". For numbers which are multiples of both three and five print \"FizzBuzz\".**"
   ]
  },
  {
   "cell_type": "code",
   "execution_count": 42,
   "metadata": {},
   "outputs": [
    {
     "name": "stdout",
     "output_type": "stream",
     "text": [
      "1\n",
      "2\n",
      "Fuzz\n",
      "4\n",
      "Buzz\n",
      "Fuzz\n",
      "7\n",
      "8\n",
      "Fuzz\n",
      "Buzz\n",
      "11\n",
      "Fuzz\n",
      "13\n",
      "14\n",
      "FuzzBuzz\n",
      "16\n",
      "17\n",
      "Fuzz\n",
      "19\n",
      "Buzz\n",
      "Fuzz\n",
      "22\n",
      "23\n",
      "Fuzz\n",
      "Buzz\n",
      "26\n",
      "Fuzz\n",
      "28\n",
      "29\n",
      "FuzzBuzz\n",
      "31\n",
      "32\n",
      "Fuzz\n",
      "34\n",
      "Buzz\n",
      "Fuzz\n",
      "37\n",
      "38\n",
      "Fuzz\n",
      "Buzz\n",
      "41\n",
      "Fuzz\n",
      "43\n",
      "44\n",
      "FuzzBuzz\n",
      "46\n",
      "47\n",
      "Fuzz\n",
      "49\n",
      "Buzz\n",
      "Fuzz\n",
      "52\n",
      "53\n",
      "Fuzz\n",
      "Buzz\n",
      "56\n",
      "Fuzz\n",
      "58\n",
      "59\n",
      "FuzzBuzz\n",
      "61\n",
      "62\n",
      "Fuzz\n",
      "64\n",
      "Buzz\n",
      "Fuzz\n",
      "67\n",
      "68\n",
      "Fuzz\n",
      "Buzz\n",
      "71\n",
      "Fuzz\n",
      "73\n",
      "74\n",
      "FuzzBuzz\n",
      "76\n",
      "77\n",
      "Fuzz\n",
      "79\n",
      "Buzz\n",
      "Fuzz\n",
      "82\n",
      "83\n",
      "Fuzz\n",
      "Buzz\n",
      "86\n",
      "Fuzz\n",
      "88\n",
      "89\n",
      "FuzzBuzz\n",
      "91\n",
      "92\n",
      "Fuzz\n",
      "94\n",
      "Buzz\n",
      "Fuzz\n",
      "97\n",
      "98\n",
      "Fuzz\n",
      "Buzz\n"
     ]
    }
   ],
   "source": [
    "for i in range(1,101):\n",
    "    if i%3==0 and i%5==0:\n",
    "        print('FuzzBuzz')\n",
    "        continue\n",
    "    elif i%3==0:\n",
    "        print('Fuzz')\n",
    "        continue\n",
    "    elif i%5==0:\n",
    "        print('Buzz')\n",
    "        continue\n",
    "    \n",
    "    print(i)"
   ]
  },
  {
   "cell_type": "markdown",
   "metadata": {},
   "source": [
    "____\n",
    "**Use List Comprehension to create a list of the first letters of every word in the string below:**"
   ]
  },
  {
   "cell_type": "code",
   "execution_count": null,
   "metadata": {},
   "outputs": [],
   "source": [
    "st = 'Create a list of the first letters of every word in this string'"
   ]
  },
  {
   "cell_type": "code",
   "execution_count": 43,
   "metadata": {},
   "outputs": [
    {
     "name": "stdout",
     "output_type": "stream",
     "text": [
      "enter your sentencehello there im ndfg \n"
     ]
    },
    {
     "data": {
      "text/plain": [
       "['h', 't', 'i', 'n']"
      ]
     },
     "execution_count": 43,
     "metadata": {},
     "output_type": "execute_result"
    }
   ],
   "source": [
    "st=input('enter your sentence')\n",
    "l1=[]\n",
    "for i in st.split():\n",
    "    l1.append(i[0])\n",
    "l1"
   ]
  },
  {
   "cell_type": "markdown",
   "metadata": {},
   "source": [
    "### Great Job!"
   ]
  }
 ],
 "metadata": {
  "kernelspec": {
   "display_name": "Python 3 (ipykernel)",
   "language": "python",
   "name": "python3"
  },
  "language_info": {
   "codemirror_mode": {
    "name": "ipython",
    "version": 3
   },
   "file_extension": ".py",
   "mimetype": "text/x-python",
   "name": "python",
   "nbconvert_exporter": "python",
   "pygments_lexer": "ipython3",
   "version": "3.9.7"
  }
 },
 "nbformat": 4,
 "nbformat_minor": 1
}
